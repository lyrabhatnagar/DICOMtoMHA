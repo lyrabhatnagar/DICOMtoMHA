{
  "cells": [
    {
      "cell_type": "code",
      "execution_count": null,
      "metadata": {
        "colab": {
          "base_uri": "https://localhost:8080/"
        },
        "id": "fURFc_BFDo-X",
        "outputId": "9c00bdad-0991-41c0-cdb8-9e9e656d720b"
      },
      "outputs": [
        {
          "output_type": "stream",
          "name": "stdout",
          "text": [
            "Collecting SimpleITK\n",
            "  Downloading SimpleITK-2.3.0-cp310-cp310-manylinux_2_17_x86_64.manylinux2014_x86_64.whl (52.6 MB)\n",
            "\u001b[2K     \u001b[90m━━━━━━━━━━━━━━━━━━━━━━━━━━━━━━━━━━━━━━━━\u001b[0m \u001b[32m52.6/52.6 MB\u001b[0m \u001b[31m18.0 MB/s\u001b[0m eta \u001b[36m0:00:00\u001b[0m\n",
            "\u001b[?25hInstalling collected packages: SimpleITK\n",
            "Successfully installed SimpleITK-2.3.0\n"
          ]
        }
      ],
      "source": [
        "!pip install SimpleITK"
      ]
    },
    {
      "cell_type": "code",
      "execution_count": null,
      "metadata": {
        "colab": {
          "base_uri": "https://localhost:8080/"
        },
        "id": "hwQJFieVKmhv",
        "outputId": "b4d69f40-a5ef-4540-b1dc-94e7e2e223b3"
      },
      "outputs": [
        {
          "output_type": "stream",
          "name": "stdout",
          "text": [
            "Collecting utils\n",
            "  Downloading utils-1.0.1-py2.py3-none-any.whl (21 kB)\n",
            "Installing collected packages: utils\n",
            "Successfully installed utils-1.0.1\n"
          ]
        }
      ],
      "source": [
        "!pip install utils"
      ]
    },
    {
      "cell_type": "code",
      "execution_count": null,
      "metadata": {
        "colab": {
          "base_uri": "https://localhost:8080/"
        },
        "id": "atoNgDdmlMUQ",
        "outputId": "7975cd1b-5047-4483-ad30-cf0c8299f2f2"
      },
      "outputs": [
        {
          "output_type": "stream",
          "name": "stdout",
          "text": [
            "Collecting pydicom\n",
            "  Downloading pydicom-2.4.3-py3-none-any.whl (1.8 MB)\n",
            "\u001b[2K     \u001b[90m━━━━━━━━━━━━━━━━━━━━━━━━━━━━━━━━━━━━━━━━\u001b[0m \u001b[32m1.8/1.8 MB\u001b[0m \u001b[31m9.2 MB/s\u001b[0m eta \u001b[36m0:00:00\u001b[0m\n",
            "\u001b[?25hInstalling collected packages: pydicom\n",
            "Successfully installed pydicom-2.4.3\n"
          ]
        }
      ],
      "source": [
        "!pip install pydicom"
      ]
    },
    {
      "cell_type": "code",
      "execution_count": null,
      "metadata": {
        "colab": {
          "base_uri": "https://localhost:8080/"
        },
        "id": "3pplQ6toke4e",
        "outputId": "3f63c874-67ce-4770-ee61-e8b719d3ffaf"
      },
      "outputs": [
        {
          "output_type": "stream",
          "name": "stdout",
          "text": [
            "Requirement already satisfied: pandas in /usr/local/lib/python3.10/dist-packages (1.5.3)\n",
            "Requirement already satisfied: python-dateutil>=2.8.1 in /usr/local/lib/python3.10/dist-packages (from pandas) (2.8.2)\n",
            "Requirement already satisfied: pytz>=2020.1 in /usr/local/lib/python3.10/dist-packages (from pandas) (2023.3.post1)\n",
            "Requirement already satisfied: numpy>=1.21.0 in /usr/local/lib/python3.10/dist-packages (from pandas) (1.23.5)\n",
            "Requirement already satisfied: six>=1.5 in /usr/local/lib/python3.10/dist-packages (from python-dateutil>=2.8.1->pandas) (1.16.0)\n"
          ]
        }
      ],
      "source": [
        "!pip install pandas"
      ]
    },
    {
      "cell_type": "code",
      "source": [
        "!pip install dicom"
      ],
      "metadata": {
        "colab": {
          "base_uri": "https://localhost:8080/"
        },
        "id": "L5EY0_geq1eM",
        "outputId": "499c338f-d0d3-41d2-8df6-379e4d4d18a1"
      },
      "execution_count": null,
      "outputs": [
        {
          "output_type": "stream",
          "name": "stdout",
          "text": [
            "Collecting dicom\n",
            "  Downloading dicom-0.9.9.post1-py3-none-any.whl (766 kB)\n",
            "\u001b[?25l     \u001b[90m━━━━━━━━━━━━━━━━━━━━━━━━━━━━━━━━━━━━━━━━\u001b[0m \u001b[32m0.0/766.3 kB\u001b[0m \u001b[31m?\u001b[0m eta \u001b[36m-:--:--\u001b[0m\r\u001b[2K     \u001b[91m━━━\u001b[0m\u001b[91m╸\u001b[0m\u001b[90m━━━━━━━━━━━━━━━━━━━━━━━━━━━━━━━━━━━━\u001b[0m \u001b[32m71.7/766.3 kB\u001b[0m \u001b[31m1.9 MB/s\u001b[0m eta \u001b[36m0:00:01\u001b[0m\r\u001b[2K     \u001b[91m━━━━━━━━━━━━━━━━━━━━━━━━━━━━━━━━━━━━\u001b[0m\u001b[91m╸\u001b[0m\u001b[90m━━━\u001b[0m \u001b[32m706.6/766.3 kB\u001b[0m \u001b[31m10.1 MB/s\u001b[0m eta \u001b[36m0:00:01\u001b[0m\r\u001b[2K     \u001b[90m━━━━━━━━━━━━━━━━━━━━━━━━━━━━━━━━━━━━━━━━\u001b[0m \u001b[32m766.3/766.3 kB\u001b[0m \u001b[31m9.2 MB/s\u001b[0m eta \u001b[36m0:00:00\u001b[0m\n",
            "\u001b[?25hInstalling collected packages: dicom\n",
            "Successfully installed dicom-0.9.9.post1\n"
          ]
        }
      ]
    },
    {
      "cell_type": "code",
      "execution_count": null,
      "metadata": {
        "id": "vC_ZSFRyEnNl"
      },
      "outputs": [],
      "source": [
        "import SimpleITK as sitk\n",
        "import os\n",
        "import glob\n",
        "import numpy as np\n",
        "from scipy.ndimage import zoom\n",
        "import pydicom\n",
        "import pandas as pd\n",
        "import gspread\n",
        "import json\n"
      ]
    },
    {
      "cell_type": "code",
      "execution_count": null,
      "metadata": {
        "colab": {
          "base_uri": "https://localhost:8080/"
        },
        "id": "UeiwnZ8pZWUI",
        "outputId": "9568f730-4533-40a0-f623-dc9db6cdd498"
      },
      "outputs": [
        {
          "output_type": "stream",
          "name": "stdout",
          "text": [
            "Mounted at /gdrive\n",
            "/gdrive\n"
          ]
        }
      ],
      "source": [
        "from google.colab import drive\n",
        "drive.mount('/gdrive')\n",
        "%cd /gdrive"
      ]
    },
    {
      "cell_type": "code",
      "execution_count": null,
      "metadata": {
        "colab": {
          "base_uri": "https://localhost:8080/"
        },
        "id": "st3oWJN1BiPs",
        "outputId": "a6fb8ac6-bdc1-44b7-f25c-e04bcde366c5"
      },
      "outputs": [
        {
          "output_type": "stream",
          "name": "stdout",
          "text": [
            "/gdrive/My Drive/DICOMs/0180_t2_tse_tra-OBL_p2_320_4/image0001.dcm\n",
            "/gdrive/My Drive/DICOMs/0184_T2_TSE_AX_OBL_4/image0001.dcm\n",
            "/gdrive/My Drive/DICOMs/0165_AX-OBL-T2-TSE-SFOV_6/image0001.dcm\n",
            "/gdrive/My Drive/DICOMs/0168_T2_TSE_AX_OBL_3/image0001.dcm\n",
            "/gdrive/My Drive/DICOMs/0163_AX-OBL-T2-TSE-SFOV_6/image0001.dcm\n",
            "/gdrive/My Drive/DICOMs/0195_AX-T2W-FS_701/image0001.dcm\n",
            "/gdrive/My Drive/DICOMs/0171_T2_AX-OBL_4/image0001.dcm\n",
            "/gdrive/My Drive/DICOMs/0192_t2_tse_AX-OBL_4/image0001.dcm\n",
            "/gdrive/My Drive/DICOMs/0166_T2_TSE_AX_OBL-SFOV_4/image0001.dcm\n",
            "/gdrive/My Drive/DICOMs/0161_t2_tse_AX-OBL_3/image0001.dcm\n",
            "/gdrive/My Drive/DICOMs/0133_T2_AX-OBL_4/image0001.dcm\n",
            "/gdrive/My Drive/DICOMs/0151_t2_tse_tra-OBL_p2_320_4/image0001.dcm\n",
            "/gdrive/My Drive/DICOMs/0154_t2_tse_AX-OBL_5/image0001.dcm\n",
            "/gdrive/My Drive/DICOMs/0150_T2_TSE_AX_OBL-SFOV_3/image0001.dcm\n",
            "/gdrive/My Drive/DICOMs/0146_AX-OBL-T2-TSE-SFOV_8/image0001.dcm\n",
            "/gdrive/My Drive/DICOMs/0142_AX-OBL-T2-TSE_8/image0001.dcm\n",
            "/gdrive/My Drive/DICOMs/0148_T2_TSE_AX_OBL-SFOV_3/image0001.dcm\n",
            "/gdrive/My Drive/DICOMs/0131_T2_TSE_AX_OBL-SFOV_3/image0001.dcm\n",
            "/gdrive/My Drive/DICOMs/0152_AX-OBL-T2-TSE_6/image0001.dcm\n",
            "/gdrive/My Drive/DICOMs/0143_T2_TSE_AX_OBL-SFOV_3/image0001.dcm\n",
            "/gdrive/My Drive/DICOMs/0099_T2_AX-OBL_4/image0001.dcm\n",
            "/gdrive/My Drive/DICOMs/0108_t2_tse_tra-OBL_p2_320_6/image0001.dcm\n",
            "/gdrive/My Drive/DICOMs/0107_t2_tse_fs_tra_4/image0001.dcm\n",
            "/gdrive/My Drive/DICOMs/0130_AX-T2_701/image0001.dcm\n",
            "/gdrive/My Drive/DICOMs/0102_AX-T2_4/image0001.dcm\n",
            "/gdrive/My Drive/DICOMs/0113_T2_TSE_AX_OBL-SFOV_4/image0001.dcm\n",
            "/gdrive/My Drive/DICOMs/0100_T2_AX-OBL_5/image0001.dcm\n",
            "/gdrive/My Drive/DICOMs/0126_t2_tse_tra-OBL_p2_320_4/image0001.dcm\n",
            "/gdrive/My Drive/DICOMs/0120_t2_tse_AX_11/image0001.dcm\n",
            "/gdrive/My Drive/DICOMs/0128_t2_tse_AX-OBL_8/image0001.dcm\n",
            "/gdrive/My Drive/DICOMs/0095_t2_tse_AX-OBL_5/image0001.dcm\n",
            "/gdrive/My Drive/DICOMs/0080_t2_tse_AX_OBL4/image0001.dcm\n",
            "/gdrive/My Drive/DICOMs/0047_T2_TSE_AX_OBL_SFOV_9/image0001.dcm\n",
            "/gdrive/My Drive/DICOMs/0089_t2_tse_AX-OBL4/image0001.dcm\n",
            "/gdrive/My Drive/DICOMs/0049_t2_tse_AX_OBL_4/image0001.dcm\n",
            "/gdrive/My Drive/DICOMs/0079_T2_AX_OBL4_4/image0001.dcm\n",
            "/gdrive/My Drive/DICOMs/0091_T2-TSE-axial-high-res_10/image0001.dcm\n",
            "/gdrive/My Drive/DICOMs/0092_t2_tse_AX-OBL_4/image0001.dcm\n",
            "/gdrive/My Drive/DICOMs/0073_t2_tse_AX_OBL3_3/image0001.dcm\n",
            "/gdrive/My Drive/DICOMs/0059_T2_TSE_AX_OBL_SFOV/image0001.dcm\n",
            "/gdrive/My Drive/DICOMs/0041_T2_TSE_AX_OBL_SFOV_3/image0001.dcm\n",
            "/gdrive/My Drive/DICOMs/0013_AX_T2_4/image0001.dcm\n",
            "/gdrive/My Drive/DICOMs/0045_T2_TSE_AX_OBL_SFOV/image0001.dcm\n",
            "/gdrive/My Drive/DICOMs/0015_AX_OBL_T2_TSE/image0001.dcm\n",
            "/gdrive/My Drive/DICOMs/0040_t2_tse_tra_OBL_P2_320_4/image0001.dcm\n",
            "/gdrive/My Drive/DICOMs/0032_T2_AX_OBL_5/image0001.dcm\n",
            "/gdrive/My Drive/DICOMs/0036_T2_AX_OBL/image0001.dcm\n",
            "/gdrive/My Drive/DICOMs/0031_T2_TSE_AX_OBL_3/image0001.dcm\n",
            "/gdrive/My Drive/DICOMs/0037_AX_OBL_T2_TSE_SFOV_6/image0001.dcm\n",
            "/gdrive/My Drive/DICOMs/0043_T2_TSE_AX_OBL_SFOV_5/image0001.dcm\n",
            "/gdrive/My Drive/DICOMs/0003_T2_TSE_AX_OBL_SFOV_3/image0001.dcm\n",
            "/gdrive/My Drive/DICOMs/0011_T2_AX_OBL_4/image0001.dcm\n"
          ]
        }
      ],
      "source": [
        "files = glob.glob('/gdrive/My Drive/DICOMs/*/image0001.dcm')\n",
        "\n",
        "for filei in files:\n",
        " #dicom_to_mha(filei, filei)\n",
        " print(filei)"
      ]
    },
    {
      "cell_type": "code",
      "execution_count": null,
      "metadata": {
        "colab": {
          "base_uri": "https://localhost:8080/"
        },
        "id": "hA3BFO9q-hKx",
        "outputId": "9fe783b8-1629-46bb-804f-46cc5fee1369"
      },
      "outputs": [
        {
          "output_type": "stream",
          "name": "stdout",
          "text": [
            "/gdrive/My Drive/DICOMs/0180_t2_tse_tra-OBL_p2_320_4/image0001.dcm\n",
            "/gdrive/My Drive/DICOMs/0184_T2_TSE_AX_OBL_4/image0001.dcm\n",
            "/gdrive/My Drive/DICOMs/0165_AX-OBL-T2-TSE-SFOV_6/image0001.dcm\n",
            "/gdrive/My Drive/DICOMs/0168_T2_TSE_AX_OBL_3/image0001.dcm\n",
            "/gdrive/My Drive/DICOMs/0163_AX-OBL-T2-TSE-SFOV_6/image0001.dcm\n",
            "/gdrive/My Drive/DICOMs/0195_AX-T2W-FS_701/image0001.dcm\n",
            "/gdrive/My Drive/DICOMs/0171_T2_AX-OBL_4/image0001.dcm\n",
            "/gdrive/My Drive/DICOMs/0192_t2_tse_AX-OBL_4/image0001.dcm\n",
            "/gdrive/My Drive/DICOMs/0166_T2_TSE_AX_OBL-SFOV_4/image0001.dcm\n",
            "/gdrive/My Drive/DICOMs/0161_t2_tse_AX-OBL_3/image0001.dcm\n",
            "/gdrive/My Drive/DICOMs/0133_T2_AX-OBL_4/image0001.dcm\n",
            "/gdrive/My Drive/DICOMs/0151_t2_tse_tra-OBL_p2_320_4/image0001.dcm\n",
            "/gdrive/My Drive/DICOMs/0154_t2_tse_AX-OBL_5/image0001.dcm\n",
            "/gdrive/My Drive/DICOMs/0150_T2_TSE_AX_OBL-SFOV_3/image0001.dcm\n",
            "/gdrive/My Drive/DICOMs/0146_AX-OBL-T2-TSE-SFOV_8/image0001.dcm\n",
            "/gdrive/My Drive/DICOMs/0142_AX-OBL-T2-TSE_8/image0001.dcm\n",
            "/gdrive/My Drive/DICOMs/0148_T2_TSE_AX_OBL-SFOV_3/image0001.dcm\n",
            "/gdrive/My Drive/DICOMs/0131_T2_TSE_AX_OBL-SFOV_3/image0001.dcm\n",
            "/gdrive/My Drive/DICOMs/0152_AX-OBL-T2-TSE_6/image0001.dcm\n",
            "/gdrive/My Drive/DICOMs/0143_T2_TSE_AX_OBL-SFOV_3/image0001.dcm\n",
            "/gdrive/My Drive/DICOMs/0099_T2_AX-OBL_4/image0001.dcm\n",
            "/gdrive/My Drive/DICOMs/0108_t2_tse_tra-OBL_p2_320_6/image0001.dcm\n",
            "/gdrive/My Drive/DICOMs/0107_t2_tse_fs_tra_4/image0001.dcm\n",
            "/gdrive/My Drive/DICOMs/0130_AX-T2_701/image0001.dcm\n",
            "/gdrive/My Drive/DICOMs/0102_AX-T2_4/image0001.dcm\n",
            "/gdrive/My Drive/DICOMs/0113_T2_TSE_AX_OBL-SFOV_4/image0001.dcm\n",
            "/gdrive/My Drive/DICOMs/0100_T2_AX-OBL_5/image0001.dcm\n",
            "/gdrive/My Drive/DICOMs/0126_t2_tse_tra-OBL_p2_320_4/image0001.dcm\n",
            "/gdrive/My Drive/DICOMs/0120_t2_tse_AX_11/image0001.dcm\n",
            "/gdrive/My Drive/DICOMs/0128_t2_tse_AX-OBL_8/image0001.dcm\n",
            "/gdrive/My Drive/DICOMs/0095_t2_tse_AX-OBL_5/image0001.dcm\n",
            "/gdrive/My Drive/DICOMs/0080_t2_tse_AX_OBL4/image0001.dcm\n",
            "/gdrive/My Drive/DICOMs/0047_T2_TSE_AX_OBL_SFOV_9/image0001.dcm\n",
            "/gdrive/My Drive/DICOMs/0089_t2_tse_AX-OBL4/image0001.dcm\n",
            "/gdrive/My Drive/DICOMs/0049_t2_tse_AX_OBL_4/image0001.dcm\n",
            "/gdrive/My Drive/DICOMs/0079_T2_AX_OBL4_4/image0001.dcm\n",
            "/gdrive/My Drive/DICOMs/0091_T2-TSE-axial-high-res_10/image0001.dcm\n",
            "/gdrive/My Drive/DICOMs/0092_t2_tse_AX-OBL_4/image0001.dcm\n",
            "/gdrive/My Drive/DICOMs/0073_t2_tse_AX_OBL3_3/image0001.dcm\n",
            "/gdrive/My Drive/DICOMs/0059_T2_TSE_AX_OBL_SFOV/image0001.dcm\n",
            "/gdrive/My Drive/DICOMs/0041_T2_TSE_AX_OBL_SFOV_3/image0001.dcm\n",
            "/gdrive/My Drive/DICOMs/0013_AX_T2_4/image0001.dcm\n",
            "/gdrive/My Drive/DICOMs/0045_T2_TSE_AX_OBL_SFOV/image0001.dcm\n",
            "/gdrive/My Drive/DICOMs/0015_AX_OBL_T2_TSE/image0001.dcm\n",
            "/gdrive/My Drive/DICOMs/0040_t2_tse_tra_OBL_P2_320_4/image0001.dcm\n",
            "/gdrive/My Drive/DICOMs/0032_T2_AX_OBL_5/image0001.dcm\n",
            "/gdrive/My Drive/DICOMs/0036_T2_AX_OBL/image0001.dcm\n",
            "/gdrive/My Drive/DICOMs/0031_T2_TSE_AX_OBL_3/image0001.dcm\n",
            "/gdrive/My Drive/DICOMs/0037_AX_OBL_T2_TSE_SFOV_6/image0001.dcm\n",
            "/gdrive/My Drive/DICOMs/0043_T2_TSE_AX_OBL_SFOV_5/image0001.dcm\n",
            "/gdrive/My Drive/DICOMs/0003_T2_TSE_AX_OBL_SFOV_3/image0001.dcm\n",
            "/gdrive/My Drive/DICOMs/0011_T2_AX_OBL_4/image0001.dcm\n"
          ]
        }
      ],
      "source": [
        "dicom_files = glob.glob('/gdrive/My Drive/DICOMs/*/image0001.dcm')\n",
        "for filei in dicom_files:\n",
        "  print(filei)\n"
      ]
    },
    {
      "cell_type": "code",
      "execution_count": null,
      "metadata": {
        "id": "ogSJ-svBdlQi"
      },
      "outputs": [],
      "source": [
        "def extract_dicomtags(dicom_dir_list, sheet_name):\n",
        "\n",
        "  #create a google sheet\n",
        "  from google.colab import auth\n",
        "  auth.authenticate_user()\n",
        "\n",
        "  import gspread\n",
        "  from google.auth import default\n",
        "  creds, _ = default()\n",
        "\n",
        "  gc = gspread.authorize(creds)\n",
        "\n",
        "  sh = gc.create(sheet_name)\n",
        "\n",
        "  #open the sheet and add column names\n",
        "  worksheet = gc.open(sheet_name).sheet1\n",
        "\n",
        "  cell_list = worksheet.range('A1:V1')\n",
        "  tag_list = np.array(['PatientID', 'FormatVersion', 'StudyDate', 'SeriesDate', 'AcquisitionDate', 'ContentDate', 'SeriesDescription', 'PatientSex', 'PatientAge', 'SequenceName', 'SliceThickness', 'RepititionTime', 'EchoTime', 'MagneticFieldStrength', 'SpacingBetweenSlices', 'PatientID', 'Manufacturer', 'ManufacturerModelName', 'PixelSpacing', 'ImageWidth', 'ImageHeight', 'NumberOfSlices'])\n",
        "\n",
        "  i = 0\n",
        "  for cell in cell_list:\n",
        "    cell.value = tag_list[i]\n",
        "    i = i+1\n",
        "\n",
        "  worksheet.update_cells(cell_list)\n",
        "\n",
        "  #collect the data from the file\n",
        "  i=2\n",
        "  for dicom in dicom_dir_list:\n",
        "    ds = pydicom.filereader.dcmread(dicom)\n",
        "    range = 'A'+str(i)+':U' +str(i)\n",
        "    cell_list = worksheet.range(range)\n",
        "\n",
        "    if hasattr(ds, 'PatientID'):\n",
        "      PatientID = str(ds.PatientID)\n",
        "    else:\n",
        "      PatientID = 'none'\n",
        "    if hasattr(ds, 'SeriesNumber'):\n",
        "      FormatVersion = str(ds.SeriesNumber)\n",
        "    else:\n",
        "      FormatVersion = 'none'\n",
        "    if hasattr(ds, 'StudyDate'):\n",
        "      StudyDate = str(ds.StudyDate)\n",
        "    else:\n",
        "      StudyDate = 'none'\n",
        "    if hasattr(ds, 'SeriesDate'):\n",
        "      SeriesDate = str(ds.SeriesDate)\n",
        "    else:\n",
        "      SeriesDate = 'none'\n",
        "    if hasattr(ds, 'AcquisitionDate'):\n",
        "      AcquisitionDate = str(ds.AcquisitionDate)\n",
        "    else:\n",
        "      AcquisitionDate = 'none'\n",
        "    if hasattr(ds, 'ContentDate'):\n",
        "      ContentDate = str(ds.ContentDate)\n",
        "    else:\n",
        "      ContentDate = 'none'\n",
        "    if hasattr(ds, 'SeriesDescription'):\n",
        "      SeriesDescription = str(ds.SeriesDescription)\n",
        "    else:\n",
        "      SeriesDescription = 'none'\n",
        "    if hasattr(ds, 'PatientSex'):\n",
        "      PatientSex = str(ds.PatientSex)\n",
        "    else:\n",
        "      PatientSex = 'none'\n",
        "    if hasattr(ds, 'PatientAge'):\n",
        "      PatientAge = str(ds.PatientAge)\n",
        "    else:\n",
        "      PatientAge = 'none'\n",
        "    if hasattr(ds, 'SequenceName'):\n",
        "      SequenceName = str(ds.SequenceName)\n",
        "    else:\n",
        "      SequenceName = 'none'\n",
        "    if hasattr(ds, 'SliceThickness'):\n",
        "      SliceThickness = str(ds.SliceThickness)\n",
        "    else:\n",
        "       SliceThickness = 'none'\n",
        "    if hasattr(ds, 'RepetitionTime'):\n",
        "      RepetitionTime = str(ds.RepetitionTime)\n",
        "    else:\n",
        "      RepetitionTime = 'none'\n",
        "    if hasattr(ds, 'EchoTime'):\n",
        "      EchoTime = str(ds.EchoTime)\n",
        "    else:\n",
        "      EchoTime = 'none'\n",
        "    if hasattr(ds, 'MagneticFieldStrength'):\n",
        "      MagneticFieldStrength = str(ds.MagneticFieldStrength)\n",
        "    else:\n",
        "      MagneticFieldStrength = 'none'\n",
        "    if hasattr(ds, 'SpacingBetweenSlices'):\n",
        "      SpacingBetweenSlices = str(ds.SpacingBetweenSlices)\n",
        "    else:\n",
        "      SpacingBetweenSlices = 'none'\n",
        "    if hasattr(ds, 'PatientID'):\n",
        "      PatientID = str(ds.PatientID)\n",
        "    else:\n",
        "      PatientID = 'none'\n",
        "    if hasattr(ds, 'Manufacturer'):\n",
        "      Manufacturer = str(ds.Manufacturer)\n",
        "    else:\n",
        "      Manufacturer = 'none'\n",
        "    if hasattr(ds, 'ManufacturerModelName'):\n",
        "      ManufacturerModelName = str(ds.ManufacturerModelName)\n",
        "    else:\n",
        "      ManufacturerModelName = 'none'\n",
        "    if hasattr(ds, 'PixelSpacing'):\n",
        "      PixelSpacing = str(ds.PixelSpacing)\n",
        "    else:\n",
        "      PixelSpacing = 'none'\n",
        "    if hasattr(ds, 'Rows'):\n",
        "      ImageWidth = str(ds.Rows)\n",
        "    else:\n",
        "      ImageWidth = 'none'\n",
        "    if hasattr(ds, 'Columns'):\n",
        "      ImageHeight = str(ds.Columns)\n",
        "    else:\n",
        "      ImageHeight = 'none'\n",
        "\n",
        "    tag_list = np.array([PatientID, FormatVersion, StudyDate, SeriesDate, AcquisitionDate, ContentDate, SeriesDescription, PatientSex, PatientAge, SequenceName, SliceThickness, RepetitionTime, EchoTime, MagneticFieldStrength, SpacingBetweenSlices, PatientID, Manufacturer, ManufacturerModelName, PixelSpacing, ImageWidth, ImageHeight])\n",
        "\n",
        "    j=0\n",
        "    for cell in cell_list:\n",
        "      cell.value = tag_list[j]\n",
        "      j = j+1\n",
        "\n",
        "    worksheet.update_cells(cell_list)\n",
        "    i = i+1\n",
        "\n",
        "\n",
        "\n",
        "    #for tag in tag_list:\n",
        "     # if isinstance(tag, pydicom.valuerep.PersonName):\n",
        "      #  worksheet.insert_row(tag_list, i)\n",
        "\n",
        "\n"
      ]
    },
    {
      "cell_type": "code",
      "execution_count": null,
      "metadata": {
        "id": "OqP25qW8z_2b"
      },
      "outputs": [],
      "source": [
        "extract_dicomtags(files, 'Dicom Tags')"
      ]
    },
    {
      "cell_type": "code",
      "execution_count": null,
      "metadata": {
        "id": "oyXTU-6H5rQq",
        "colab": {
          "base_uri": "https://localhost:8080/"
        },
        "outputId": "795faefa-1591-4f90-fcd2-90ff73c35ebf"
      },
      "outputs": [
        {
          "output_type": "stream",
          "name": "stdout",
          "text": [
            "Dataset.file_meta -------------------------------\n",
            "(0002, 0000) File Meta Information Group Length  UL: 214\n",
            "(0002, 0001) File Meta Information Version       OB: b'\\x00\\x01'\n",
            "(0002, 0002) Media Storage SOP Class UID         UI: MR Image Storage\n",
            "(0002, 0003) Media Storage SOP Instance UID      UI: 1.3.12.2.1107.5.2.30.26396.2018061308411238114405047\n",
            "(0002, 0010) Transfer Syntax UID                 UI: JPEG 2000 Image Compression (Lossless Only)\n",
            "(0002, 0012) Implementation Class UID            UI: 1.2.276.0.7230010.3.0.3.6.2\n",
            "(0002, 0013) Implementation Version Name         SH: 'OFFIS_DCMTK_362'\n",
            "(0002, 0016) Source Application Entity Title     AE: 'ACUOVNA'\n",
            "-------------------------------------------------\n",
            "(0008, 0005) Specific Character Set              CS: 'ISO_IR 100'\n",
            "(0008, 0008) Image Type                          CS: ['ORIGINAL', 'PRIMARY', 'M', 'DIS2D']\n",
            "(0008, 0012) Instance Creation Date              DA: '20180613'\n",
            "(0008, 0013) Instance Creation Time              TM: '084112.906000'\n",
            "(0008, 0016) SOP Class UID                       UI: MR Image Storage\n",
            "(0008, 0018) SOP Instance UID                    UI: 1.3.12.2.1107.5.2.30.26396.2018061308411238114405047\n",
            "(0008, 0020) Study Date                          DA: '20180630'\n",
            "(0008, 0021) Series Date                         DA: '20180630'\n",
            "(0008, 0022) Acquisition Date                    DA: '20180630'\n",
            "(0008, 0023) Content Date                        DA: '20180630'\n",
            "(0008, 0030) Study Time                          TM: '082851.531000'\n",
            "(0008, 0031) Series Time                         TM: '084112.312000'\n",
            "(0008, 0032) Acquisition Time                    TM: '083850.410000'\n",
            "(0008, 0033) Content Time                        TM: '084112.906000'\n",
            "(0008, 0050) Accession Number                    SH: '202200069_0002'\n",
            "(0008, 0060) Modality                            CS: 'MR'\n",
            "(0008, 0070) Manufacturer                        LO: 'SIEMENS'\n",
            "(0008, 1010) Station Name                        SH: 'OSMIMMRI'\n",
            "(0008, 1030) Study Description                   LO: 'MR RECTAL CANCER IVCON WO/W'\n",
            "(0008, 1032)  Procedure Code Sequence  1 item(s) ---- \n",
            "   (0008, 0100) Code Value                          SH: '15155'\n",
            "   (0008, 0102) Coding Scheme Designator            SH: 'SHANDSGNV'\n",
            "   (0008, 0104) Code Meaning                        LO: 'MR Rectal Cancer IVcon wo/w'\n",
            "   ---------\n",
            "(0008, 103e) Series Description                  LO: 'T2_TSE_AX_OBL SFOV'\n",
            "(0008, 1090) Manufacturer's Model Name           LO: 'Avanto'\n",
            "(0008, 1140)  Referenced Image Sequence  3 item(s) ---- \n",
            "   (0008, 1150) Referenced SOP Class UID            UI: MR Image Storage\n",
            "   (0008, 1155) Referenced SOP Instance UID         UI: 1.3.12.2.1107.5.2.30.26396.2018061308334178440104652\n",
            "   ---------\n",
            "   (0008, 1150) Referenced SOP Class UID            UI: MR Image Storage\n",
            "   (0008, 1155) Referenced SOP Instance UID         UI: 1.3.12.2.1107.5.2.30.26396.20180613082931975504226\n",
            "   ---------\n",
            "   (0008, 1150) Referenced SOP Class UID            UI: MR Image Storage\n",
            "   (0008, 1155) Referenced SOP Instance UID         UI: 1.3.12.2.1107.5.2.30.26396.2018061308294565186204270\n",
            "   ---------\n",
            "(0010, 0010) Patient's Name                      PN: '202200069_0003^^^^'\n",
            "(0010, 0020) Patient ID                          LO: '202200069_0003'\n",
            "(0010, 0040) Patient's Sex                       CS: 'M'\n",
            "(0010, 1010) Patient's Age                       AS: '056Y'\n",
            "(0010, 1020) Patient's Size                      DS: '1.7780035583333'\n",
            "(0010, 1030) Patient's Weight                    DS: '78.9250824198'\n",
            "(0018, 0015) Body Part Examined                  CS: 'PELVIS'\n",
            "(0018, 0020) Scanning Sequence                   CS: 'SE'\n",
            "(0018, 0021) Sequence Variant                    CS: ['SK', 'SP', 'OSP']\n",
            "(0018, 0022) Scan Options                        CS: 'SAT3'\n",
            "(0018, 0023) MR Acquisition Type                 CS: '2D'\n",
            "(0018, 0024) Sequence Name                       SH: '*tse2d1_29'\n",
            "(0018, 0025) Angio Flag                          CS: 'N'\n",
            "(0018, 0050) Slice Thickness                     DS: '3.0'\n",
            "(0018, 0080) Repetition Time                     DS: '3500.0'\n",
            "(0018, 0081) Echo Time                           DS: '114.0'\n",
            "(0018, 0083) Number of Averages                  DS: '4.0'\n",
            "(0018, 0084) Imaging Frequency                   DS: '63.663283'\n",
            "(0018, 0085) Imaged Nucleus                      SH: '1H'\n",
            "(0018, 0086) Echo Number(s)                      IS: '1'\n",
            "(0018, 0087) Magnetic Field Strength             DS: '1.5'\n",
            "(0018, 0088) Spacing Between Slices              DS: '3.99'\n",
            "(0018, 0089) Number of Phase Encoding Steps      IS: '291'\n",
            "(0018, 0091) Echo Train Length                   IS: '29'\n",
            "(0018, 0093) Percent Sampling                    DS: '80.0'\n",
            "(0018, 0094) Percent Phase Field of View         DS: '75.0'\n",
            "(0018, 0095) Pixel Bandwidth                     DS: '300.0'\n",
            "(0018, 1000) Device Serial Number                LO: '26396'\n",
            "(0018, 1020) Software Versions                   LO: 'syngo MR B19'\n",
            "(0018, 1030) Protocol Name                       LO: 'T2_TSE_AX_OBL SFOV'\n",
            "(0018, 1251) Transmit Coil Name                  SH: 'Body'\n",
            "(0018, 1310) Acquisition Matrix                  US: [256, 0, 0, 154]\n",
            "(0018, 1312) In-plane Phase Encoding Direction   CS: 'COL'\n",
            "(0018, 1314) Flip Angle                          DS: '136.0'\n",
            "(0018, 1315) Variable Flip Angle Flag            CS: 'N'\n",
            "(0018, 1316) SAR                                 DS: '1.9263070547335'\n",
            "(0018, 1318) dB/dt                               DS: '0.0'\n",
            "(0018, 5100) Patient Position                    CS: 'HFS'\n",
            "(0019, 0010) Private Creator                     LO: 'SIEMENS MR HEADER'\n",
            "(0019, 1008) [CSA Image Header Type]             CS: 'IMAGE NUM 4'\n",
            "(0019, 1009) [CSA Image Header Version ??]       LO: '1.0'\n",
            "(0019, 100b) [SliceMeasurementDuration]          DS: '66955.0'\n",
            "(0019, 100f) [GradientMode]                      SH: 'Fast'\n",
            "(0019, 1011) [FlowCompensation]                  SH: 'No'\n",
            "(0019, 1012) [TablePositionOrigin]               SL: [0, 0, -1738]\n",
            "(0019, 1013) [ImaAbsTablePosition]               SL: [0, 0, -1789]\n",
            "(0019, 1014) [ImaRelTablePosition]               IS: [0, 0, -51]\n",
            "(0019, 1015) [SlicePosition_PCS]                 FD: [-100.0, -49.66430534, 66.44880246]\n",
            "(0019, 1017) [SliceResolution]                   DS: '1.0'\n",
            "(0019, 1018) [RealDwellTime]                     IS: '6500'\n",
            "(0020, 000d) Study Instance UID                  UI: 1.3.6.1.4.1.29565.1.4.67799414.117044.1528862789.977393\n",
            "(0020, 000e) Series Instance UID                 UI: 1.3.12.2.1107.5.2.30.26396.2018061308411215068805007.0.0.0\n",
            "(0020, 0010) Study ID                            SH: '202200069_0002'\n",
            "(0020, 0011) Series Number                       IS: '3'\n",
            "(0020, 0012) Acquisition Number                  IS: '1'\n",
            "(0020, 0013) Instance Number                     IS: '1'\n",
            "(0020, 0032) Image Position (Patient)            DS: [-100, -49.664305342927, 15.448802463653]\n",
            "(0020, 0037) Image Orientation (Patient)         DS: [1, 0, 0, 0, 0.99556196389853, -0.0941083207719]\n",
            "(0020, 0052) Frame of Reference UID              UI: 1.3.12.2.1107.5.2.30.26396.2.20180613082851781.0.0.0\n",
            "(0020, 1040) Position Reference Indicator        LO: ''\n",
            "(0020, 1041) Slice Location                      DS: '10.70641574247'\n",
            "(0028, 0002) Samples per Pixel                   US: 1\n",
            "(0028, 0004) Photometric Interpretation          CS: 'MONOCHROME2'\n",
            "(0028, 0010) Rows                                US: 192\n",
            "(0028, 0011) Columns                             US: 256\n",
            "(0028, 0030) Pixel Spacing                       DS: [0.78125, 0.78125]\n",
            "(0028, 0100) Bits Allocated                      US: 16\n",
            "(0028, 0101) Bits Stored                         US: 12\n",
            "(0028, 0102) High Bit                            US: 11\n",
            "(0028, 0103) Pixel Representation                US: 0\n",
            "(0028, 0106) Smallest Image Pixel Value          US: 0\n",
            "(0028, 0107) Largest Image Pixel Value           US: 974\n",
            "(0028, 1050) Window Center                       DS: '300.0'\n",
            "(0028, 1051) Window Width                        DS: '707.0'\n",
            "(0028, 1055) Window Center & Width Explanation   LO: 'Algo1'\n",
            "(0029, 0010) Private Creator                     LO: 'SIEMENS CSA HEADER'\n",
            "(0029, 0011) Private Creator                     LO: 'SIEMENS MEDCOM HEADER2'\n",
            "(0029, 1008) [CSA Image Header Type]             CS: 'IMAGE NUM 4'\n",
            "(0029, 1009) [CSA Image Header Version]          LO: '20180613'\n",
            "(0029, 1010) [CSA Image Header Info]             OB: Array of 9456 elements\n",
            "(0029, 1018) [CSA Series Header Type]            CS: 'MR'\n",
            "(0029, 1019) [CSA Series Header Version]         LO: '20180613'\n",
            "(0029, 1020) [CSA Series Header Info]            OB: Array of 71160 elements\n",
            "(0029, 1160) [Series Workflow Status]            LO: 'com'\n",
            "(0032, 1060) Requested Procedure Description     LO: 'MR RECTAL CANCER IVCON WO/W'\n",
            "(0032, 1064)  Requested Procedure Code Sequence  1 item(s) ---- \n",
            "   (0008, 0100) Code Value                          SH: '15155'\n",
            "   (0008, 0102) Coding Scheme Designator            SH: 'SHANDSGNV'\n",
            "   (0008, 0104) Code Meaning                        LO: 'MR Rectal Cancer IVcon wo/w'\n",
            "   ---------\n",
            "(0040, 0001) Scheduled Station AE Title          AE: 'OSMIMMRI'\n",
            "(0040, 0010) Scheduled Station Name              SH: 'UF_RAD'\n",
            "(0040, 0244) Performed Procedure Step Start Date DA: '20180613'\n",
            "(0040, 0245) Performed Procedure Step Start Time TM: '082851.656000'\n",
            "(0040, 0253) Performed Procedure Step ID         SH: 'G3978058'\n",
            "(0040, 0254) Performed Procedure Step Descriptio LO: 'MR RECTAL CANCER IVCON WO/W'\n",
            "(0040, 0275)  Request Attributes Sequence  1 item(s) ---- \n",
            "   (0040, 0008)  Scheduled Protocol Code Sequence  1 item(s) ---- \n",
            "      (0008, 0100) Code Value                          SH: '15155'\n",
            "      (0008, 0102) Coding Scheme Designator            SH: 'SHANDSGNV'\n",
            "      (0008, 0104) Code Meaning                        LO: 'MR Rectal Cancer IVcon wo/w'\n",
            "      ---------\n",
            "   (0040, 1001) Requested Procedure ID              SH: '15155'\n",
            "   ---------\n",
            "(0040, 1001) Requested Procedure ID              SH: 'IMG15155'\n",
            "(0051, 0010) Private Creator                     LO: 'SIEMENS MR HEADER'\n",
            "(0051, 1008) [CSA Image Header Type]             CS: 'IMAGE NUM 4'\n",
            "(0051, 1009) [CSA Image Header Version ??]       LO: '1.0'\n",
            "(0051, 100a) [Unknown]                           SH: 'TA 01:06*2'\n",
            "(0051, 100b) [AcquisitionMatrixText]             SH: '154*256'\n",
            "(0051, 100c) [Unknown]                           SH: 'FoV 150*200'\n",
            "(0051, 100d) [Unknown]                           SH: 'SP H10.7'\n",
            "(0051, 100e) [Unknown]                           SH: 'Tra>Cor(-5.4)'\n",
            "(0051, 100f) [CoilString]                        LO: 'd:BO2;SP5'\n",
            "(0051, 1011) [PATModeText]                       LO: 'p2'\n",
            "(0051, 1012) [Unknown]                           SH: 'TP F51'\n",
            "(0051, 1013) [PositivePCSDirections]             SH: '+LPH'\n",
            "(0051, 1016) [Unknown]                           LO: 'p2 M/DIS2D'\n",
            "(0051, 1017) [Unknown]                           SH: 'SL 3.0'\n",
            "(0051, 1019) [Unknown]                           LO: 'A4/SAT3'\n",
            "(7fe0, 0010) Pixel Data                          OB: Array of 38514 elements\n"
          ]
        }
      ],
      "source": [
        "ds = pydicom.filereader.dcmread('/gdrive/My Drive/DICOMs/0003_T2_TSE_AX_OBL_SFOV_3/image0001.dcm')\n",
        "print(ds)"
      ]
    },
    {
      "cell_type": "code",
      "execution_count": null,
      "metadata": {
        "id": "UV9vZxf7EYyu"
      },
      "outputs": [],
      "source": [
        "def dicom_to_mha(dicom_dir, output_dir):\n",
        "  reader = sitk.ImageSeriesReader()\n",
        "  dicom_names = reader.GetGDCMSeriesFileNames(dicom_dir)\n",
        "  if len(dicom_names) == 0:\n",
        "    print(\"File not Found\")\n",
        "  else:\n",
        "    reader.SetFileNames(dicom_names)\n",
        "    image = reader.Execute()\n",
        "    output_filename = \".mha\"\n",
        "    output_path = os.path.join(output_dir, output_filename)\n",
        "    sitk.WriteImage(image, output_path)\n",
        "    print(f\"Image saved as {dicom_dir}.mha\")\n"
      ]
    }
  ],
  "metadata": {
    "colab": {
      "provenance": []
    },
    "kernelspec": {
      "display_name": "Python 3",
      "name": "python3"
    },
    "language_info": {
      "name": "python"
    }
  },
  "nbformat": 4,
  "nbformat_minor": 0
}